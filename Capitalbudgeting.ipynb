{
  "nbformat": 4,
  "nbformat_minor": 0,
  "metadata": {
    "colab": {
      "provenance": [],
      "authorship_tag": "ABX9TyOs6VaP8VHXezhpLlTCiBO8",
      "include_colab_link": true
    },
    "kernelspec": {
      "name": "python3",
      "display_name": "Python 3"
    },
    "language_info": {
      "name": "python"
    }
  },
  "cells": [
    {
      "cell_type": "markdown",
      "metadata": {
        "id": "view-in-github",
        "colab_type": "text"
      },
      "source": [
        "<a href=\"https://colab.research.google.com/github/Atif-Kazmi/Graphical-calculator/blob/main/Capitalbudgeting.ipynb\" target=\"_parent\"><img src=\"https://colab.research.google.com/assets/colab-badge.svg\" alt=\"Open In Colab\"/></a>"
      ]
    },
    {
      "cell_type": "code",
      "execution_count": 1,
      "metadata": {
        "colab": {
          "base_uri": "https://localhost:8080/",
          "height": 383
        },
        "id": "-yiC0ORf_mPz",
        "outputId": "1e682d7c-9242-40c8-a9e7-ed6d72e117aa"
      },
      "outputs": [
        {
          "output_type": "error",
          "ename": "ModuleNotFoundError",
          "evalue": "No module named 'streamlit'",
          "traceback": [
            "\u001b[0;31m---------------------------------------------------------------------------\u001b[0m",
            "\u001b[0;31mModuleNotFoundError\u001b[0m                       Traceback (most recent call last)",
            "\u001b[0;32m<ipython-input-1-d0e6d942219a>\u001b[0m in \u001b[0;36m<cell line: 2>\u001b[0;34m()\u001b[0m\n\u001b[1;32m      1\u001b[0m \u001b[0;32mimport\u001b[0m \u001b[0mnumpy\u001b[0m \u001b[0;32mas\u001b[0m \u001b[0mnp\u001b[0m\u001b[0;34m\u001b[0m\u001b[0;34m\u001b[0m\u001b[0m\n\u001b[0;32m----> 2\u001b[0;31m \u001b[0;32mimport\u001b[0m \u001b[0mstreamlit\u001b[0m \u001b[0;32mas\u001b[0m \u001b[0mst\u001b[0m\u001b[0;34m\u001b[0m\u001b[0;34m\u001b[0m\u001b[0m\n\u001b[0m\u001b[1;32m      3\u001b[0m \u001b[0;34m\u001b[0m\u001b[0m\n\u001b[1;32m      4\u001b[0m \u001b[0;32mdef\u001b[0m \u001b[0mcalculate_irr\u001b[0m\u001b[0;34m(\u001b[0m\u001b[0mcashflows\u001b[0m\u001b[0;34m)\u001b[0m\u001b[0;34m:\u001b[0m\u001b[0;34m\u001b[0m\u001b[0;34m\u001b[0m\u001b[0m\n\u001b[1;32m      5\u001b[0m     \"\"\"Calculates the internal rate of return (IRR) of a series of cash flows.\n",
            "\u001b[0;31mModuleNotFoundError\u001b[0m: No module named 'streamlit'",
            "",
            "\u001b[0;31m---------------------------------------------------------------------------\u001b[0;32m\nNOTE: If your import is failing due to a missing package, you can\nmanually install dependencies using either !pip or !apt.\n\nTo view examples of installing some common dependencies, click the\n\"Open Examples\" button below.\n\u001b[0;31m---------------------------------------------------------------------------\u001b[0m\n"
          ],
          "errorDetails": {
            "actions": [
              {
                "action": "open_url",
                "actionText": "Open Examples",
                "url": "/notebooks/snippets/importing_libraries.ipynb"
              }
            ]
          }
        }
      ],
      "source": [
        "import numpy as np\n",
        "import streamlit as st\n",
        "\n",
        "def calculate_irr(cashflows):\n",
        "    \"\"\"Calculates the internal rate of return (IRR) of a series of cash flows.\n",
        "\n",
        "    Args:\n",
        "        cashflows: A list or numpy array of cash flows.\n",
        "\n",
        "    Returns:\n",
        "        The calculated IRR.\n",
        "    \"\"\"\n",
        "\n",
        "    try:\n",
        "        return np.irr(cashflows)\n",
        "    except ValueError:\n",
        "        return None\n",
        "\n",
        "def calculate_npv(cashflows, discount_rate):\n",
        "    \"\"\"Calculates the net present value (NPV) of a series of cash flows.\n",
        "\n",
        "    Args:\n",
        "        cashflows: A list or numpy array of cash flows.\n",
        "        discount_rate: The discount rate used for calculations.\n",
        "\n",
        "    Returns:\n",
        "        The calculated NPV.\n",
        "    \"\"\"\n",
        "\n",
        "    return np.npv(discount_rate, cashflows)\n",
        "\n",
        "def main():\n",
        "    st.title(\"IRR and NPV Calculator\")\n",
        "\n",
        "    # Get cash flows from the user\n",
        "    num_cashflows = st.number_input(\"Enter the number of cash flows:\")\n",
        "    cashflows = []\n",
        "    for i in range(num_cashflows):\n",
        "        cashflows.append(st.number_input(f\"Cash flow {i+1}:\"))\n",
        "\n",
        "    # Get discount rate from the user\n",
        "    discount_rate = st.number_input(\"Enter the discount rate:\")\n",
        "\n",
        "    # Calculate IRR and NPV\n",
        "    irr = calculate_irr(cashflows)\n",
        "    npv = calculate_npv(cashflows, discount_rate)\n",
        "\n",
        "    # Display results\n",
        "    if irr is not None:\n",
        "        st.write(f\"IRR: {irr:.2f}%\")\n",
        "    else:\n",
        "        st.write(\"IRR could not be calculated.\")\n",
        "    st.write(f\"NPV: {npv:.2f}\")\n",
        "\n",
        "if __name__ == \"__main__\":\n",
        "    main()"
      ]
    }
  ]
}